{
 "cells": [
  {
   "cell_type": "code",
   "execution_count": 2,
   "metadata": {
    "pycharm": {
     "is_executing": true
    }
   },
   "outputs": [],
   "source": [
    "from sklearn.feature_extraction.text import TfidfVectorizer\n",
    "from sklearn.metrics.pairwise import cosine_similarity\n",
    "from IPython.display import HTML\n",
    "import pandas as pd\n"
   ]
  },
  {
   "cell_type": "code",
   "execution_count": 3,
   "metadata": {
    "pycharm": {
     "name": "#%%\n"
    }
   },
   "outputs": [
    {
     "name": "stdout",
     "output_type": "stream",
     "text": [
      "Top 3 Keywords in Query: use, to, recognition\n"
     ]
    },
    {
     "data": {
      "text/html": [
       "<strong>Query:</strong> How to use machine learning for image recognition?<br><strong>Top Matching Question:</strong> How does deep learning contribute <span style='color:red'>to</span> image <span style='color:red'>recognition</span>?"
      ],
      "text/plain": [
       "<IPython.core.display.HTML object>"
      ]
     },
     "metadata": {},
     "output_type": "display_data"
    },
    {
     "name": "stdout",
     "output_type": "stream",
     "text": [
      "Similarity Results:\n",
      "                                            Question  Similarity Score\n",
      "0  How does deep learning contribute to image rec...          0.468419\n",
      "1  What are the best practices for training a mac...          0.391182\n",
      "2  Can you explain the process of image recogniti...          0.212102\n",
      "3    What are some applications of machine learning?          0.126303\n"
     ]
    }
   ],
   "source": [
    "\n",
    "def highlight_keywords(query, text, keywords):\n",
    "    highlighted_text = text\n",
    "    for keyword in keywords:\n",
    "        highlighted_text = highlighted_text.replace(keyword, f\"<span style='color:red'>{keyword}</span>\")\n",
    "    return highlighted_text\n",
    "\n",
    "def extract_top_keywords(query, n=3):\n",
    "    # Initialize the TF-IDF vectorizer\n",
    "    vectorizer = TfidfVectorizer()\n",
    "\n",
    "    # Fit and transform the query\n",
    "    query_tfidf = vectorizer.fit_transform([query])\n",
    "\n",
    "    # Get feature names and their corresponding TF-IDF values\n",
    "    feature_names = vectorizer.get_feature_names_out()\n",
    "    tfidf_values = query_tfidf.data\n",
    "\n",
    "    # Sort feature names based on TF-IDF values\n",
    "    sorted_indices = tfidf_values.argsort()[-n:][::-1]\n",
    "    top_keywords = [feature_names[i] for i in sorted_indices]\n",
    "\n",
    "    return top_keywords\n",
    "\n",
    "def find_similar_questions_tfidf(query, question_list):\n",
    "    # Initialize the TF-IDF vectorizer\n",
    "    vectorizer = TfidfVectorizer()\n",
    "\n",
    "    # Fit and transform the corpus (including the query)\n",
    "    corpus = [query] + question_list\n",
    "    tfidf_matrix = vectorizer.fit_transform(corpus)\n",
    "\n",
    "    # Calculate cosine similarity between the query and each question\n",
    "    similarity_scores = cosine_similarity(tfidf_matrix[0], tfidf_matrix[1:])[0]\n",
    "\n",
    "    # Create a DataFrame to store results\n",
    "    result_df = pd.DataFrame({'Question': question_list, 'Similarity Score': similarity_scores})\n",
    "\n",
    "    # Sort DataFrame by Similarity Score in descending order\n",
    "    result_df = result_df.sort_values(by='Similarity Score', ascending=False).reset_index(drop=True)\n",
    "\n",
    "    # Extract and display the top 3 keywords in the query\n",
    "    top_keywords = extract_top_keywords(query, n=3)\n",
    "    print(f\"Top 3 Keywords in Query: {', '.join(top_keywords)}\")\n",
    "\n",
    "    # Highlight keywords in the top matching question\n",
    "    top_question = result_df.iloc[0]['Question']\n",
    "    highlighted_text = highlight_keywords(query, top_question, top_keywords)\n",
    "\n",
    "    # Display the highlighted text\n",
    "    display(HTML(f\"<strong>Query:</strong> {query}<br><strong>Top Matching Question:</strong> {highlighted_text}\"))\n",
    "\n",
    "    return result_df\n",
    "\n",
    "# Example usage\n",
    "query = \"How to use machine learning for image recognition?\"\n",
    "question_list = [\n",
    "    \"What are some applications of machine learning?\",\n",
    "    \"Can you explain the process of image recognition using machine learning?\",\n",
    "    \"How does deep learning contribute to image recognition?\",\n",
    "    \"What are the best practices for training a machine learning model for image recognition?\"\n",
    "]\n",
    "\n",
    "result_df = find_similar_questions_tfidf(query, question_list)\n",
    "print(\"Similarity Results:\")\n",
    "print(result_df)"
   ]
  },
  {
   "cell_type": "code",
   "execution_count": null,
   "metadata": {},
   "outputs": [],
   "source": []
  }
 ],
 "metadata": {
  "kernelspec": {
   "display_name": "Python 3 (ipykernel)",
   "language": "python",
   "name": "python3"
  },
  "language_info": {
   "codemirror_mode": {
    "name": "ipython",
    "version": 3
   },
   "file_extension": ".py",
   "mimetype": "text/x-python",
   "name": "python",
   "nbconvert_exporter": "python",
   "pygments_lexer": "ipython3",
   "version": "3.7.0"
  }
 },
 "nbformat": 4,
 "nbformat_minor": 1
}